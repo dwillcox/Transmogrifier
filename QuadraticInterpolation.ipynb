{
 "cells": [
  {
   "cell_type": "code",
   "execution_count": 1,
   "metadata": {},
   "outputs": [],
   "source": [
    "from sympy.interactive.printing import init_printing\n",
    "init_printing(use_unicode=True, wrap_line=False)\n",
    "from sympy.matrices import Matrix\n",
    "from sympy import *"
   ]
  },
  {
   "cell_type": "code",
   "execution_count": 2,
   "metadata": {},
   "outputs": [],
   "source": [
    "Fim, Fi, Fip = symbols(\"Fim Fi Fip\")\n",
    "dxm, dx, dxp = symbols(\"dxm dx dxp\")"
   ]
  },
  {
   "cell_type": "code",
   "execution_count": 3,
   "metadata": {},
   "outputs": [
    {
     "data": {
      "image/png": "[encoded data removed]",
      "text/latex": [
       "$\\displaystyle \\left[\\begin{matrix}1 & dxm & dxm^{2}\\\\1 & dx & dx^{2}\\\\1 & dxp & dxp^{2}\\end{matrix}\\right]$"
      ],
      "text/plain": [
       "⎡           2⎤\n",
       "⎢1  dxm  dxm ⎥\n",
       "⎢            ⎥\n",
       "⎢          2 ⎥\n",
       "⎢1  dx   dx  ⎥\n",
       "⎢            ⎥\n",
       "⎢           2⎥\n",
       "⎣1  dxp  dxp ⎦"
      ]
     },
     "execution_count": 3,
     "metadata": {},
     "output_type": "execute_result"
    }
   ],
   "source": [
    "A = Matrix([[1, dxm, dxm**2],\n",
    "            [1, dx , dx**2],\n",
    "            [1, dxp, dxp**2]])\n",
    "A"
   ]
  },
  {
   "cell_type": "code",
   "execution_count": 4,
   "metadata": {},
   "outputs": [
    {
     "data": {
      "image/png": "[encoded data removed]",
      "text/latex": [
       "$\\displaystyle \\left[\\begin{matrix}Fim\\\\Fi\\\\Fip\\end{matrix}\\right]$"
      ],
      "text/plain": [
       "⎡Fim⎤\n",
       "⎢   ⎥\n",
       "⎢Fi ⎥\n",
       "⎢   ⎥\n",
       "⎣Fip⎦"
      ]
     },
     "execution_count": 4,
     "metadata": {},
     "output_type": "execute_result"
    }
   ],
   "source": [
    "B = Matrix([Fim, Fi, Fip])\n",
    "B"
   ]
  },
  {
   "cell_type": "code",
   "execution_count": 5,
   "metadata": {},
   "outputs": [],
   "source": [
    "sol, params = A.gauss_jordan_solve(B)"
   ]
  },
  {
   "cell_type": "code",
   "execution_count": 6,
   "metadata": {},
   "outputs": [
    {
     "data": {
      "image/png": "[encoded data removed]",
      "text/latex": [
       "$\\displaystyle \\left[\\begin{matrix}\\frac{\\left(Fim \\left(dx - dxm\\right) - dxm \\left(Fi - Fim\\right)\\right) \\left(\\left(dx - dxm\\right) \\left(- dxm^{2} + dxp^{2}\\right) - \\left(dx^{2} - dxm^{2}\\right) \\left(- dxm + dxp\\right)\\right) - \\left(dxm^{2} \\left(dx - dxm\\right) - dxm \\left(dx^{2} - dxm^{2}\\right)\\right) \\left(- \\left(Fi - Fim\\right) \\left(- dxm + dxp\\right) + \\left(- Fim + Fip\\right) \\left(dx - dxm\\right)\\right)}{\\left(dx - dxm\\right) \\left(\\left(dx - dxm\\right) \\left(- dxm^{2} + dxp^{2}\\right) - \\left(dx^{2} - dxm^{2}\\right) \\left(- dxm + dxp\\right)\\right)}\\\\\\frac{\\left(Fi - Fim\\right) \\left(\\left(dx - dxm\\right) \\left(- dxm^{2} + dxp^{2}\\right) - \\left(dx^{2} - dxm^{2}\\right) \\left(- dxm + dxp\\right)\\right) - \\left(dx^{2} - dxm^{2}\\right) \\left(- \\left(Fi - Fim\\right) \\left(- dxm + dxp\\right) + \\left(- Fim + Fip\\right) \\left(dx - dxm\\right)\\right)}{\\left(dx - dxm\\right) \\left(\\left(dx - dxm\\right) \\left(- dxm^{2} + dxp^{2}\\right) - \\left(dx^{2} - dxm^{2}\\right) \\left(- dxm + dxp\\right)\\right)}\\\\\\frac{- \\left(Fi - Fim\\right) \\left(- dxm + dxp\\right) + \\left(- Fim + Fip\\right) \\left(dx - dxm\\right)}{\\left(dx - dxm\\right) \\left(- dxm^{2} + dxp^{2}\\right) - \\left(dx^{2} - dxm^{2}\\right) \\left(- dxm + dxp\\right)}\\end{matrix}\\right]$"
      ],
      "text/plain": [
       "⎡                                  ⎛           ⎛     2      2⎞   ⎛  2      2⎞             ⎞   ⎛   2                  ⎛  2      2⎞⎞                                                     ⎤\n",
       "⎢(Fim⋅(dx - dxm) - dxm⋅(Fi - Fim))⋅⎝(dx - dxm)⋅⎝- dxm  + dxp ⎠ - ⎝dx  - dxm ⎠⋅(-dxm + dxp)⎠ - ⎝dxm ⋅(dx - dxm) - dxm⋅⎝dx  - dxm ⎠⎠⋅(-(Fi - Fim)⋅(-dxm + dxp) + (-Fim + Fip)⋅(dx - dxm))⎥\n",
       "⎢──────────────────────────────────────────────────────────────────────────────────────────────────────────────────────────────────────────────────────────────────────────────────────⎥\n",
       "⎢                                                                    ⎛           ⎛     2      2⎞   ⎛  2      2⎞             ⎞                                                          ⎥\n",
       "⎢                                                         (dx - dxm)⋅⎝(dx - dxm)⋅⎝- dxm  + dxp ⎠ - ⎝dx  - dxm ⎠⋅(-dxm + dxp)⎠                                                          ⎥\n",
       "⎢                                                                                                                                                                                      ⎥\n",
       "⎢                                  ⎛           ⎛     2      2⎞   ⎛  2      2⎞             ⎞   ⎛  2      2⎞                                                                             ⎥\n",
       "⎢                       (Fi - Fim)⋅⎝(dx - dxm)⋅⎝- dxm  + dxp ⎠ - ⎝dx  - dxm ⎠⋅(-dxm + dxp)⎠ - ⎝dx  - dxm ⎠⋅(-(Fi - Fim)⋅(-dxm + dxp) + (-Fim + Fip)⋅(dx - dxm))                        ⎥\n",
       "⎢                       ───────────────────────────────────────────────────────────────────────────────────────────────────────────────────────────────────────                        ⎥\n",
       "⎢                                                                    ⎛           ⎛     2      2⎞   ⎛  2      2⎞             ⎞                                                          ⎥\n",
       "⎢                                                         (dx - dxm)⋅⎝(dx - dxm)⋅⎝- dxm  + dxp ⎠ - ⎝dx  - dxm ⎠⋅(-dxm + dxp)⎠                                                          ⎥\n",
       "⎢                                                                                                                                                                                      ⎥\n",
       "⎢                                                                  -(Fi - Fim)⋅(-dxm + dxp) + (-Fim + Fip)⋅(dx - dxm)                                                                  ⎥\n",
       "⎢                                                                ──────────────────────────────────────────────────────                                                                ⎥\n",
       "⎢                                                                           ⎛     2      2⎞   ⎛  2      2⎞                                                                             ⎥\n",
       "⎣                                                                (dx - dxm)⋅⎝- dxm  + dxp ⎠ - ⎝dx  - dxm ⎠⋅(-dxm + dxp)                                                                ⎦"
      ]
     },
     "execution_count": 6,
     "metadata": {},
     "output_type": "execute_result"
    }
   ],
   "source": [
    "sol"
   ]
  },
  {
   "cell_type": "code",
   "execution_count": 7,
   "metadata": {},
   "outputs": [
    {
     "data": {
      "image/png": "[encoded data removed]",
      "text/latex": [
       "$\\displaystyle \\left[\\begin{matrix}\\end{matrix}\\right]$"
      ],
      "text/plain": [
       "[]"
      ]
     },
     "execution_count": 7,
     "metadata": {},
     "output_type": "execute_result"
    }
   ],
   "source": [
    "params"
   ]
  },
  {
   "cell_type": "code",
   "execution_count": 14,
   "metadata": {},
   "outputs": [
    {
     "data": {
      "text/plain": [
       "'((Fim*(dx - dxm) - dxm*(Fi - Fim))*((dx - dxm)*(-std::pow(dxm, 2) + std::pow(dxp, 2)) - (std::pow(dx, 2) - std::pow(dxm, 2))*(-dxm + dxp)) - (std::pow(dxm, 2)*(dx - dxm) - dxm*(std::pow(dx, 2) - std::pow(dxm, 2)))*(-(Fi - Fim)*(-dxm + dxp) + (-Fim + Fip)*(dx - dxm)))/((dx - dxm)*((dx - dxm)*(-std::pow(dxm, 2) + std::pow(dxp, 2)) - (std::pow(dx, 2) - std::pow(dxm, 2))*(-dxm + dxp)))'"
      ]
     },
     "execution_count": 14,
     "metadata": {},
     "output_type": "execute_result"
    }
   ],
   "source": [
    "cxxcode(sol[0])"
   ]
  },
  {
   "cell_type": "code",
   "execution_count": null,
   "metadata": {},
   "outputs": [],
   "source": []
  }
 ],
 "metadata": {
  "kernelspec": {
   "display_name": "Python 3",
   "language": "python",
   "name": "python3"
  },
  "language_info": {
   "codemirror_mode": {
    "name": "ipython",
    "version": 3
   },
   "file_extension": ".py",
   "mimetype": "text/x-python",
   "name": "python",
   "nbconvert_exporter": "python",
   "pygments_lexer": "ipython3",
   "version": "3.7.5"
  }
 },
 "nbformat": 4,
 "nbformat_minor": 4
}
